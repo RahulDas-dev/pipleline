{
 "cells": [
  {
   "cell_type": "code",
   "execution_count": 1,
   "id": "1cac2493",
   "metadata": {},
   "outputs": [],
   "source": [
    "import logging\n",
    "import time\n",
    "from functools import reduce\n",
    "from joblib import Parallel, delayed, parallel_config\n",
    "from pipeline import PipeLine, Data\n",
    "# from joblib.externals.loky import set_loky_pickler\n",
    "# from joblib import wrap_non_picklable_objects\n",
    "\n",
    "logging.basicConfig(level=logging.INFO, handlers=[logging.StreamHandler()])\n",
    "#set_loky_pickler('cloudpickle')\n",
    "\n",
    "\n",
    "logger = logging.getLogger(__name__)"
   ]
  },
  {
   "cell_type": "markdown",
   "id": "9415bb39-eef1-4a1b-bbf6-d29c9d926fe6",
   "metadata": {},
   "source": [
    "## Simple Pipeline Implementation"
   ]
  },
  {
   "cell_type": "code",
   "execution_count": 2,
   "id": "54585c5c",
   "metadata": {},
   "outputs": [],
   "source": [
    "def quare(x):\n",
    "    time.sleep(.2)\n",
    "    return x*x\n",
    "\n",
    "def add_5(x):\n",
    "    time.sleep(.2)\n",
    "    return x+5\n",
    "\n",
    "def mul_6(x):\n",
    "    time.sleep(.1)\n",
    "    return x*6\n",
    "\n",
    "def make_pipeline(list_of_callables):\n",
    "    return reduce(lambda f,g: lambda x: g(f(x)), list_of_callables)\n",
    "\n",
    "class Ensemble:\n",
    "    def __init__(self, transformers):\n",
    "        self.transformers = transformers\n",
    "        \n",
    "    def __call__(self, data):\n",
    "        # list_of_callables = [component for component in self.transformers ]\n",
    "        # final_func = reduce(lambda f, g: lambda x: g(f(x)), self.transformers)\n",
    "        data_t = data\n",
    "        for component in self.transformers:\n",
    "            data_t = component(data_t)\n",
    "        return  data_t   \n",
    "\n",
    "pline = Ensemble([quare,add_5,mul_6])\n",
    "\n"
   ]
  },
  {
   "cell_type": "markdown",
   "id": "f4d128a5-e35c-458a-b813-6d82e62aa002",
   "metadata": {},
   "source": [
    "## Testing With out multiprocessing"
   ]
  },
  {
   "cell_type": "code",
   "execution_count": 3,
   "id": "782753d7",
   "metadata": {},
   "outputs": [
    {
     "name": "stderr",
     "output_type": "stream",
     "text": [
      "INFO:__main__:E2E Time 51.722574949264526 sec, [54180, 55326, 56484, 57654, 58836]\n"
     ]
    }
   ],
   "source": [
    "st_time = time.time()\n",
    "data_ = [pline(i) for i in range(1,100) ]\n",
    "logger.info(f'E2E Time {time.time() - st_time } sec, {data_[-5:]}')"
   ]
  },
  {
   "cell_type": "markdown",
   "id": "93484c34-1b1f-46a5-b2db-427dc38817c8",
   "metadata": {},
   "source": [
    "## Testing with Multiprocessing [ It is Failing]"
   ]
  },
  {
   "cell_type": "code",
   "execution_count": 4,
   "id": "b4f1676a",
   "metadata": {},
   "outputs": [
    {
     "ename": "IndentationError",
     "evalue": "expected an indented block (2488962149.py, line 5)",
     "output_type": "error",
     "traceback": [
      "\u001b[1;36m  Cell \u001b[1;32mIn[4], line 5\u001b[1;36m\u001b[0m\n\u001b[1;33m    logger.info(f'E2E Time {time.time() - st_time } sec, {results[-5:]}')\u001b[0m\n\u001b[1;37m    ^\u001b[0m\n\u001b[1;31mIndentationError\u001b[0m\u001b[1;31m:\u001b[0m expected an indented block\n"
     ]
    }
   ],
   "source": [
    "logger.info(f'Starting at {time.localtime()}')\n",
    "st_time = time.time()\n",
    "with parallel_config(backend=\"multiprocessing\", n_jobs=-1, verbose=10):\n",
    "    # results = Parallel()(delayed(pline)(item) for item in range(1,100))\n",
    "logger.info(f'E2E Time {time.time() - st_time } sec, {results[-5:]}')"
   ]
  },
  {
   "cell_type": "markdown",
   "id": "7684dacf-3f63-4bbe-9b02-5f8beb090722",
   "metadata": {},
   "source": [
    "### Testing with LOKY BACKEND"
   ]
  },
  {
   "cell_type": "code",
   "execution_count": 5,
   "id": "37fd2862-f381-4d46-8377-c724c5514aac",
   "metadata": {},
   "outputs": [
    {
     "name": "stderr",
     "output_type": "stream",
     "text": [
      "INFO:__main__:Starting at time.struct_time(tm_year=2024, tm_mon=2, tm_mday=11, tm_hour=20, tm_min=49, tm_sec=54, tm_wday=6, tm_yday=42, tm_isdst=0)\n",
      "[Parallel(n_jobs=-1)]: Using backend LokyBackend with 12 concurrent workers.\n",
      "[Parallel(n_jobs=-1)]: Done   1 tasks      | elapsed:    0.7s\n",
      "[Parallel(n_jobs=-1)]: Done   8 tasks      | elapsed:    0.7s\n",
      "[Parallel(n_jobs=-1)]: Done  17 tasks      | elapsed:    1.3s\n",
      "[Parallel(n_jobs=-1)]: Done  26 tasks      | elapsed:    1.8s\n",
      "[Parallel(n_jobs=-1)]: Done  37 tasks      | elapsed:    2.2s\n",
      "[Parallel(n_jobs=-1)]: Done  48 tasks      | elapsed:    2.3s\n",
      "[Parallel(n_jobs=-1)]: Done  61 tasks      | elapsed:    3.3s\n",
      "[Parallel(n_jobs=-1)]: Done  74 tasks      | elapsed:    3.9s\n",
      "[Parallel(n_jobs=-1)]: Done  86 out of  99 | elapsed:    4.4s remaining:    0.6s\n",
      "[Parallel(n_jobs=-1)]: Done  96 out of  99 | elapsed:    4.4s remaining:    0.0s\n",
      "[Parallel(n_jobs=-1)]: Done  99 out of  99 | elapsed:    4.9s finished\n",
      "INFO:__main__:E2E Time 5.019072532653809 sec, [54180, 55326, 56484, 57654, 58836]\n"
     ]
    }
   ],
   "source": [
    "logger.info(f'Starting at {time.localtime()}')\n",
    "st_time = time.time()\n",
    "with parallel_config(backend=\"loky\", n_jobs=-1, verbose=10):\n",
    "    #delayed_funcs = [delayed(pline)(item) for item in data_]\n",
    "    results = Parallel()(delayed(pline)(item) for item in range(1,100))\n",
    "logger.info(f'E2E Time {time.time() - st_time } sec, {results[-5:]}')"
   ]
  },
  {
   "cell_type": "code",
   "execution_count": 6,
   "id": "644c00d3",
   "metadata": {},
   "outputs": [
    {
     "name": "stdout",
     "output_type": "stream",
     "text": [
      "[36, 54, 84, 126, 180, 246, 324, 414, 516, 630, 756, 894, 1044, 1206, 1380, 1566, 1764, 1974, 2196, 2430, 2676, 2934, 3204, 3486, 3780, 4086, 4404, 4734, 5076, 5430, 5796, 6174, 6564, 6966, 7380, 7806, 8244, 8694, 9156, 9630, 10116, 10614, 11124, 11646, 12180, 12726, 13284, 13854, 14436, 15030, 15636, 16254, 16884, 17526, 18180, 18846, 19524, 20214, 20916, 21630, 22356, 23094, 23844, 24606, 25380, 26166, 26964, 27774, 28596, 29430, 30276, 31134, 32004, 32886, 33780, 34686, 35604, 36534, 37476, 38430, 39396, 40374, 41364, 42366, 43380, 44406, 45444, 46494, 47556, 48630, 49716, 50814, 51924, 53046, 54180, 55326, 56484, 57654, 58836]\n"
     ]
    }
   ],
   "source": [
    "print(results)"
   ]
  },
  {
   "cell_type": "markdown",
   "id": "a9606124-f96a-4bc8-8a6c-7535338b1c92",
   "metadata": {},
   "source": [
    "## Same Pipleline with Little complex data  "
   ]
  },
  {
   "cell_type": "code",
   "execution_count": 7,
   "id": "99fd715e-3168-45a7-a996-be40ae4e8e5b",
   "metadata": {},
   "outputs": [],
   "source": [
    "def quare__d(x):\n",
    "    time.sleep(.2)\n",
    "    ll = [ i*i for i in x.obj ]\n",
    "    return x.replicate(obj = ll)\n",
    "\n",
    "def add__d(x):\n",
    "    time.sleep(.2)\n",
    "    ll = [ i + 5 for i in x.obj ]\n",
    "    return x.replicate(obj = ll)\n",
    "\n",
    "def mul__d(x):\n",
    "    time.sleep(.1)\n",
    "    ll = [ i * 6 for i in x.obj ]\n",
    "    return x.replicate(obj = ll)\n",
    "\n",
    "\n",
    "pipeline11 = Ensemble([quare__d,add__d,mul__d])"
   ]
  },
  {
   "cell_type": "code",
   "execution_count": 8,
   "id": "5f1618e8-2ccd-4b6e-8ed5-29c36f6d47f2",
   "metadata": {},
   "outputs": [],
   "source": [
    "data_ = [\n",
    "        Data(identifier=\"1\", metadata={}, obj=[1, 2, 2, 3, 4, 5, 6, 7, 8, 9]),\n",
    "        Data(identifier=\"2\", metadata={}, obj=[1, 2, 2, 3, 4, 5, 6, 7, 8, 9]),\n",
    "        Data(identifier=\"3\", metadata={}, obj=[1, 2, 2, 3, 4, 5, 6, 7, 8, 9]),\n",
    "        Data(identifier=\"4\", metadata={}, obj=[1, 2, 2, 3, 4, 5, 6, 7, 8, 9]),\n",
    "        Data(identifier=\"5\", metadata={}, obj=[1, 2, 2, 3, 4, 5, 6, 7, 8, 9]),\n",
    "        Data(identifier=\"6\", metadata={}, obj=[1, 2, 2, 3, 4, 5, 6, 7, 8, 9]),\n",
    "        Data(identifier=\"7\", metadata={}, obj=[1, 2, 2, 3, 4, 5, 6, 7, 8, 9]),\n",
    "        Data(identifier=\"8\", metadata={}, obj=[1, 2, 2, 3, 4, 5, 6, 7, 8, 9]),\n",
    "        Data(identifier=\"9\", metadata={}, obj=[1, 2, 2, 3, 4, 5, 6, 7, 8, 9]),\n",
    "        Data(identifier=\"10\", metadata={}, obj=[1, 2, 2, 3, 4, 5, 6, 7, 8, 9]),\n",
    "        Data(identifier=\"11\", metadata={}, obj=[1, 2, 2, 3, 4, 5, 6, 7, 8, 9]),\n",
    "        Data(identifier=\"12\", metadata={}, obj=[1, 2, 2, 3, 4, 5, 6, 7, 8, 9]),\n",
    "    ]"
   ]
  },
  {
   "cell_type": "code",
   "execution_count": 9,
   "id": "3cb5402d-79ce-4f64-bd4b-d14733a6f55e",
   "metadata": {},
   "outputs": [
    {
     "name": "stderr",
     "output_type": "stream",
     "text": [
      "INFO:__main__:Starting at time.struct_time(tm_year=2024, tm_mon=2, tm_mday=11, tm_hour=20, tm_min=50, tm_sec=7, tm_wday=6, tm_yday=42, tm_isdst=0)\n",
      "[Parallel(n_jobs=1)]: Done   1 tasks      | elapsed:    0.4s\n",
      "[Parallel(n_jobs=1)]: Done   4 tasks      | elapsed:    2.0s\n",
      "[Parallel(n_jobs=1)]: Done   7 tasks      | elapsed:    3.6s\n",
      "[Parallel(n_jobs=1)]: Done  12 tasks      | elapsed:    6.2s\n",
      "[Parallel(n_jobs=1)]: Done  12 tasks      | elapsed:    6.2s\n",
      "INFO:__main__:E2E Time 6.291088104248047 sec, [Data(identifier='8', metadata={}, obj=[36, 54, 54, 84, 126, 180, 246, 324, 414, 516]), Data(identifier='9', metadata={}, obj=[36, 54, 54, 84, 126, 180, 246, 324, 414, 516]), Data(identifier='10', metadata={}, obj=[36, 54, 54, 84, 126, 180, 246, 324, 414, 516]), Data(identifier='11', metadata={}, obj=[36, 54, 54, 84, 126, 180, 246, 324, 414, 516]), Data(identifier='12', metadata={}, obj=[36, 54, 54, 84, 126, 180, 246, 324, 414, 516])]\n"
     ]
    }
   ],
   "source": [
    "logger.info(f'Starting at {time.localtime()}')\n",
    "st_time = time.time()\n",
    "\n",
    "with parallel_config(backend=\"loky\", verbose=10):\n",
    "    #delayed_funcs = [delayed(pipeline11)(item) for item in data_]\n",
    "    results = Parallel()(delayed(pipeline11)(item) for item in data_)\n",
    "\n",
    "logger.info(f'E2E Time {time.time() - st_time } sec, {results[-5:]}')"
   ]
  },
  {
   "cell_type": "markdown",
   "id": "52403a8f-d4d7-419c-8d85-63bac1f06283",
   "metadata": {},
   "source": [
    "## Our Implementations"
   ]
  },
  {
   "cell_type": "code",
   "execution_count": 10,
   "id": "937882a4",
   "metadata": {},
   "outputs": [],
   "source": [
    "config_path = \"./config.cfg\"\n",
    "pipeline = PipeLine.load(config_path)"
   ]
  },
  {
   "cell_type": "code",
   "execution_count": 11,
   "id": "c5a42ec8-6720-4a2b-a1b8-eb473802a85b",
   "metadata": {},
   "outputs": [
    {
     "name": "stderr",
     "output_type": "stream",
     "text": [
      "[Parallel(n_jobs=-1)]: Using backend LokyBackend with 12 concurrent workers.\n",
      "[Parallel(n_jobs=-1)]: Done   1 tasks      | elapsed:    1.4s\n",
      "[Parallel(n_jobs=-1)]: Done   3 out of  12 | elapsed:    1.4s remaining:    4.5s\n",
      "[Parallel(n_jobs=-1)]: Done   5 out of  12 | elapsed:    1.5s remaining:    2.1s\n",
      "[Parallel(n_jobs=-1)]: Done   7 out of  12 | elapsed:    1.5s remaining:    1.1s\n",
      "[Parallel(n_jobs=-1)]: Done   9 out of  12 | elapsed:    1.5s remaining:    0.4s\n",
      "[Parallel(n_jobs=-1)]: Done  12 out of  12 | elapsed:    1.8s finished\n",
      "INFO:__main__:E2E Time 1.8994622230529785 sec, [<pipeline.db.orm.Results object at 0x000001FF1CCE24F0>, <pipeline.db.orm.Results object at 0x000001FF1CC98550>, <pipeline.db.orm.Results object at 0x000001FF1CCE2B80>, <pipeline.db.orm.Results object at 0x000001FF1CC987C0>, <pipeline.db.orm.Results object at 0x000001FF1CC95430>]\n"
     ]
    }
   ],
   "source": [
    "st_time = time.time()\n",
    "results = pipeline(data_)\n",
    "logger.info(f'E2E Time {time.time() - st_time } sec, {results[-5:]}')"
   ]
  },
  {
   "cell_type": "code",
   "execution_count": 12,
   "id": "d492c6ec-1275-4659-99e0-4e74ff8f557b",
   "metadata": {},
   "outputs": [
    {
     "data": {
      "text/plain": [
       "[<pipeline.db.orm.Results at 0x1ff1cc98130>,\n",
       " <pipeline.db.orm.Results at 0x1ff1cc98160>,\n",
       " <pipeline.db.orm.Results at 0x1ff1cc98310>,\n",
       " <pipeline.db.orm.Results at 0x1ff1a7b5f10>,\n",
       " <pipeline.db.orm.Results at 0x1ff1cc95130>,\n",
       " <pipeline.db.orm.Results at 0x1ff1cc98af0>,\n",
       " <pipeline.db.orm.Results at 0x1ff1cce28e0>,\n",
       " <pipeline.db.orm.Results at 0x1ff1cce24f0>,\n",
       " <pipeline.db.orm.Results at 0x1ff1cc98550>,\n",
       " <pipeline.db.orm.Results at 0x1ff1cce2b80>,\n",
       " <pipeline.db.orm.Results at 0x1ff1cc987c0>,\n",
       " <pipeline.db.orm.Results at 0x1ff1cc95430>]"
      ]
     },
     "execution_count": 12,
     "metadata": {},
     "output_type": "execute_result"
    }
   ],
   "source": [
    "results"
   ]
  },
  {
   "cell_type": "code",
   "execution_count": null,
   "id": "14c8decf-6399-4845-9d43-76d21390bca3",
   "metadata": {},
   "outputs": [],
   "source": [
    "st_time = time.time()\n",
    "with parallel_config(backend=\"loky\", n_jobs=-1, verbose=10):\n",
    "    results = Parallel()(delayed(pipeline)(item) for item in data_)\n",
    "logger.info(f'E2E Time {time.time() - st_time } sec, {results[-5:]}')"
   ]
  },
  {
   "cell_type": "code",
   "execution_count": null,
   "id": "bef52893-9651-47ef-b43d-a9693a70694b",
   "metadata": {},
   "outputs": [],
   "source": [
    "import pickle\n",
    "pickle.dumps(pipeline)"
   ]
  },
  {
   "cell_type": "code",
   "execution_count": 12,
   "id": "cfc95b5f-0bf1-4c5e-9575-34462f82e9ff",
   "metadata": {},
   "outputs": [],
   "source": [
    "# pipeline(data_)"
   ]
  },
  {
   "cell_type": "code",
   "execution_count": null,
   "id": "bd30a2d8-823b-42b1-950f-9e8ed9babd3d",
   "metadata": {},
   "outputs": [],
   "source": []
  }
 ],
 "metadata": {
  "kernelspec": {
   "display_name": "Python 3 (ipykernel)",
   "language": "python",
   "name": "python3"
  },
  "language_info": {
   "codemirror_mode": {
    "name": "ipython",
    "version": 3
   },
   "file_extension": ".py",
   "mimetype": "text/x-python",
   "name": "python",
   "nbconvert_exporter": "python",
   "pygments_lexer": "ipython3",
   "version": "3.9.7"
  }
 },
 "nbformat": 4,
 "nbformat_minor": 5
}
